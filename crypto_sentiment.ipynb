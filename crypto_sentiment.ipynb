{
 "cells": [
  {
   "cell_type": "markdown",
   "metadata": {},
   "source": [
    "# Unit 12 - Tales from the Crypto\n",
    "\n",
    "---\n"
   ]
  },
  {
   "cell_type": "markdown",
   "metadata": {},
   "source": [
    "## 1. Sentiment Analysis\n",
    "\n",
    "Use the [newsapi](https://newsapi.org/) to pull the latest news articles for Bitcoin and Ethereum and create a DataFrame of sentiment scores for each coin.\n",
    "\n",
    "Use descriptive statistics to answer the following questions:\n",
    "1. Which coin had the highest mean positive score?\n",
    "2. Which coin had the highest negative score?\n",
    "3. Which coin had the highest positive score?"
   ]
  },
  {
   "cell_type": "code",
   "execution_count": 1,
   "metadata": {},
   "outputs": [
    {
     "name": "stderr",
     "output_type": "stream",
     "text": [
      "[nltk_data] Downloading package vader_lexicon to\n",
      "[nltk_data]     C:\\Users\\yasir\\AppData\\Roaming\\nltk_data...\n",
      "[nltk_data]   Package vader_lexicon is already up-to-date!\n"
     ]
    }
   ],
   "source": [
    "# Initial imports\n",
    "import os\n",
    "import pandas as pd\n",
    "from dotenv import load_dotenv\n",
    "import nltk as nltk\n",
    "nltk.download('vader_lexicon')\n",
    "from nltk.sentiment.vader import SentimentIntensityAnalyzer\n",
    "analyzer = SentimentIntensityAnalyzer()\n",
    "from newsapi.newsapi_client import NewsApiClient\n",
    "\n",
    "%matplotlib inline"
   ]
  },
  {
   "cell_type": "code",
   "execution_count": 20,
   "metadata": {},
   "outputs": [],
   "source": [
    "# Read your api key environment variable\n",
    "api_key = os.getenv(\"NEWS_API_KEY\")"
   ]
  },
  {
   "cell_type": "code",
   "execution_count": 23,
   "metadata": {},
   "outputs": [
    {
     "data": {
      "text/plain": [
       "str"
      ]
     },
     "execution_count": 23,
     "metadata": {},
     "output_type": "execute_result"
    }
   ],
   "source": [
    "type(api_key)\n"
   ]
  },
  {
   "cell_type": "code",
   "execution_count": 24,
   "metadata": {},
   "outputs": [],
   "source": [
    "# Create a newsapi client\n",
    "newsapi = NewsApiClient(api_key=api_key)"
   ]
  },
  {
   "cell_type": "code",
   "execution_count": 25,
   "metadata": {},
   "outputs": [
    {
     "data": {
      "text/plain": [
       "dict"
      ]
     },
     "execution_count": 25,
     "metadata": {},
     "output_type": "execute_result"
    }
   ],
   "source": [
    "# Fetch the Bitcoin news articles\n",
    "bitcoin_news_articles = newsapi.get_everything(q=\"bitcoin\", language=\"en\")\n",
    "type(bitcoin_news_articles)"
   ]
  },
  {
   "cell_type": "code",
   "execution_count": 26,
   "metadata": {},
   "outputs": [
    {
     "name": "stdout",
     "output_type": "stream",
     "text": [
      "Total articles about bitcoin: 7883\n",
      "['One of the strictest crackdowns worldwide\\r\\nPhoto by Michele Doying / The Verge\\r\\nIndia is reportedly moving forward with a sweeping ban on cryptocurrencies. According to Reuters, the countrys legislat… [+1656 chars]', 'The hacker behind last years big Twitter hack\\r\\n has just been sentenced to hard time.\\r\\nGraham Ivan Clark, the teenage hacker who broke\\r\\n into Twitters systems, took over verified accounts, and used t… [+2552 chars]', 'Some things are best left a mystery at least as far as Coinbase is concerned.\\xa0\\r\\nThe San Francisco-based cryptocurrency exchange has been preparing to go public since last year, and in a Thursday pros… [+1953 chars]', 'TL;DR: Enter the The Complete Bitcoin (BTC) Investment Giveaway for a chance to win over $12,000 in cryptocurrency-related prizes.\\r\\nThe Bitcoin Investment Giveaway includes everything you need to get… [+1641 chars]', 'A proposed law in India would make it a crime to mine, trade, or even hold cryptocurrencies like bitcoin in the country, according to a new report from Reuters citing a senior government official. It… [+1725 chars]', \"New York (CNN Business)Bitcoin's roller coaster ride continues. The top cryptocurrency surged to a new all-time high above $58,000 on Sunday but fell to just above $46,000 in early trading Tuesday mo… [+2159 chars]\", 'This morning Coinbase, an American cryptocurrency exchange, released an S-1 filing ahead of its direct listing. The company’s public debut has been hotly anticipated thanks to recent activity amongst… [+2409 chars]', 'By Reuters Staff\\r\\nFILE PHOTO: A collection of bitcoin (virtual currency) tokens are displayed in this picture illustration taken Dec. 8, 2017. REUTERS/Benoit Tessier/Illustration\\r\\n(Reuters) - MicroSt… [+905 chars]', 'By Reuters Staff\\r\\nFILE PHOTO: Representations of virtual currency Bitcoin are placed on a computer motherboard in this illustration taken January 21, 2021. REUTERS/Dado Ruvic/Illustration\\r\\n(Reuters) … [+1303 chars]', 'By Reuters Staff\\r\\nFeb 21 (Reuters) - Bitcoin continued gaining on Sunday, rising to a fresh high and extending a two-month rally that took its market capitalization above $1 trillion on Friday.\\r\\nThe … [+296 chars]', 'By Reuters Staff\\r\\nCryptocurrency mining facilities are seen in Pristina, Kosovo June 12, 2018.\\r\\nHONG KONG (Reuters Breakingviews) - Concise insights on global finance in the Covid-19 era.\\r\\nSUPPLY-SID… [+1621 chars]', 'The cryptocurrency market has encountered major headwinds to open the final trading week of February. It is not the only sector that has been impacted. North American stocks were down broadly in mid-… [+3563 chars]', 'By Reuters Staff\\r\\nFILE PHOTO: A representation of virtual currency Bitcoin and U.S. One Dollar banknotes are seen in front of a stock graph in this illustration taken January 8, 2021. REUTERS/Dado Ru… [+440 chars]', 'By Reuters Staff\\r\\nFILE PHOTO: Representations of virtual currency Bitcoin and U.S. dollar banknotes are seen in this picture illustration taken January 27, 2020. REUTERS/Dado Ruvic/Illustration\\r\\n(Reu… [+96 chars]', 'Bitcoin.\\r\\nKTS Design/Science Photo Library/Getty Images\\r\\nThe Chicago Board Options Exchange has filed a request with the US Securities and Exchange Commission seeking approval to list shares of asset… [+1567 chars]', 'The CEO of Gab the right-wing haven that lost mainstream tech backing after violent attacks in 2018 published a curious blog post denying that the company has suffered a data breach. While it mysteri… [+894 chars]', 'In the face of rising homelessness, increasing crime and inadequate public transit in San Francisco, many tech influencers are pulling up stakes to geographies that offer a seemingly more welcome cli… [+6768 chars]', 'By Reuters Staff\\r\\nFILE PHOTO: A collection of bitcoin (virtual currency) tokens are displayed in this picture illustration taken Dec. 8, 2017. REUTERS/Benoit Tessier/Illustration\\r\\n(Reuters) - Bitcoin… [+642 chars]']\n"
     ]
    }
   ],
   "source": [
    "\n",
    "# Print total articles\n",
    "print(f\"Total articles about bitcoin: {bitcoin_news_articles['totalResults']}\")\n",
    "\n",
    "# Show sample article\n",
    "bitcoin_news_articles[\"articles\"][2]\n",
    "    \n",
    "# Getting all articles together      \n",
    "bitcoin_contents = []\n",
    "for article in bitcoin_news_articles['articles']:\n",
    "      if article['content']:\n",
    "          bitcoin_contents.append(article['content'])\n",
    "    \n",
    "print(bitcoin_contents)"
   ]
  },
  {
   "cell_type": "code",
   "execution_count": 27,
   "metadata": {},
   "outputs": [
    {
     "data": {
      "text/plain": [
       "(19, 5)"
      ]
     },
     "execution_count": 27,
     "metadata": {},
     "output_type": "execute_result"
    }
   ],
   "source": [
    "# Create the Bitcoin sentiment scores DataFrame\n",
    "bitcoin_sentiments = []\n",
    "\n",
    "for article in bitcoin_news_articles[\"articles\"]:\n",
    "    try:\n",
    "        text = article[\"content\"]\n",
    "        date = article[\"publishedAt\"][:10]\n",
    "        sentiment = analyzer.polarity_scores(text)\n",
    "        compound = sentiment[\"compound\"]\n",
    "        pos = sentiment[\"pos\"]\n",
    "        neu = sentiment[\"neu\"]\n",
    "        neg = sentiment[\"neg\"]\n",
    "        \n",
    "        bitcoin_sentiments.append({\n",
    "            \"text\": text,\n",
    "            \"date\": date,\n",
    "            \"compound\": compound,\n",
    "            \"positive\": pos,\n",
    "            \"negative\": neg,\n",
    "            \"neutral\": neu\n",
    "            \n",
    "        })\n",
    "        \n",
    "    except AttributeError:\n",
    "        pass\n",
    "    \n",
    "# Create DataFrame\n",
    "bitcoin_df = pd.DataFrame(bitcoin_sentiments)\n",
    "\n",
    "# Reorder DataFrame columns\n",
    "cols = [\"compound\", \"negative\", \"neutral\", \"positive\", \"text\"]\n",
    "bitcoin_df = bitcoin_df[cols]\n",
    "\n",
    "bitcoin_df.head()\n",
    "bitcoin_df.shape"
   ]
  },
  {
   "cell_type": "code",
   "execution_count": 29,
   "metadata": {},
   "outputs": [
    {
     "data": {
      "text/html": [
       "<div>\n",
       "<style scoped>\n",
       "    .dataframe tbody tr th:only-of-type {\n",
       "        vertical-align: middle;\n",
       "    }\n",
       "\n",
       "    .dataframe tbody tr th {\n",
       "        vertical-align: top;\n",
       "    }\n",
       "\n",
       "    .dataframe thead th {\n",
       "        text-align: right;\n",
       "    }\n",
       "</style>\n",
       "<table border=\"1\" class=\"dataframe\">\n",
       "  <thead>\n",
       "    <tr style=\"text-align: right;\">\n",
       "      <th></th>\n",
       "      <th>compound</th>\n",
       "      <th>negative</th>\n",
       "      <th>neutral</th>\n",
       "      <th>positive</th>\n",
       "      <th>text</th>\n",
       "    </tr>\n",
       "  </thead>\n",
       "  <tbody>\n",
       "    <tr>\n",
       "      <th>0</th>\n",
       "      <td>-0.5574</td>\n",
       "      <td>0.110</td>\n",
       "      <td>0.890</td>\n",
       "      <td>0.000</td>\n",
       "      <td>One of the strictest crackdowns worldwide\\r\\nP...</td>\n",
       "    </tr>\n",
       "    <tr>\n",
       "      <th>1</th>\n",
       "      <td>-0.5106</td>\n",
       "      <td>0.142</td>\n",
       "      <td>0.858</td>\n",
       "      <td>0.000</td>\n",
       "      <td>The hacker behind last years big Twitter hack\\...</td>\n",
       "    </tr>\n",
       "    <tr>\n",
       "      <th>2</th>\n",
       "      <td>0.6369</td>\n",
       "      <td>0.000</td>\n",
       "      <td>0.887</td>\n",
       "      <td>0.113</td>\n",
       "      <td>Some things are best left a mystery at least a...</td>\n",
       "    </tr>\n",
       "    <tr>\n",
       "      <th>3</th>\n",
       "      <td>0.0000</td>\n",
       "      <td>0.000</td>\n",
       "      <td>0.000</td>\n",
       "      <td>0.000</td>\n",
       "      <td></td>\n",
       "    </tr>\n",
       "    <tr>\n",
       "      <th>4</th>\n",
       "      <td>0.8316</td>\n",
       "      <td>0.000</td>\n",
       "      <td>0.754</td>\n",
       "      <td>0.246</td>\n",
       "      <td>TL;DR: Enter the The Complete Bitcoin (BTC) In...</td>\n",
       "    </tr>\n",
       "  </tbody>\n",
       "</table>\n",
       "</div>"
      ],
      "text/plain": [
       "   compound  negative  neutral  positive  \\\n",
       "0   -0.5574     0.110    0.890     0.000   \n",
       "1   -0.5106     0.142    0.858     0.000   \n",
       "2    0.6369     0.000    0.887     0.113   \n",
       "3    0.0000     0.000    0.000     0.000   \n",
       "4    0.8316     0.000    0.754     0.246   \n",
       "\n",
       "                                                text  \n",
       "0  One of the strictest crackdowns worldwide\\r\\nP...  \n",
       "1  The hacker behind last years big Twitter hack\\...  \n",
       "2  Some things are best left a mystery at least a...  \n",
       "3                                                     \n",
       "4  TL;DR: Enter the The Complete Bitcoin (BTC) In...  "
      ]
     },
     "execution_count": 29,
     "metadata": {},
     "output_type": "execute_result"
    }
   ],
   "source": [
    "bitcoin_df.head()"
   ]
  },
  {
   "cell_type": "code",
   "execution_count": 30,
   "metadata": {},
   "outputs": [
    {
     "data": {
      "text/html": [
       "<div>\n",
       "<style scoped>\n",
       "    .dataframe tbody tr th:only-of-type {\n",
       "        vertical-align: middle;\n",
       "    }\n",
       "\n",
       "    .dataframe tbody tr th {\n",
       "        vertical-align: top;\n",
       "    }\n",
       "\n",
       "    .dataframe thead th {\n",
       "        text-align: right;\n",
       "    }\n",
       "</style>\n",
       "<table border=\"1\" class=\"dataframe\">\n",
       "  <thead>\n",
       "    <tr style=\"text-align: right;\">\n",
       "      <th></th>\n",
       "      <th>compound</th>\n",
       "      <th>negative</th>\n",
       "      <th>neutral</th>\n",
       "      <th>positive</th>\n",
       "    </tr>\n",
       "  </thead>\n",
       "  <tbody>\n",
       "    <tr>\n",
       "      <th>count</th>\n",
       "      <td>19.000000</td>\n",
       "      <td>19.000000</td>\n",
       "      <td>19.000000</td>\n",
       "      <td>19.000000</td>\n",
       "    </tr>\n",
       "    <tr>\n",
       "      <th>mean</th>\n",
       "      <td>0.038342</td>\n",
       "      <td>0.043895</td>\n",
       "      <td>0.846684</td>\n",
       "      <td>0.056842</td>\n",
       "    </tr>\n",
       "    <tr>\n",
       "      <th>std</th>\n",
       "      <td>0.464811</td>\n",
       "      <td>0.087203</td>\n",
       "      <td>0.233882</td>\n",
       "      <td>0.077159</td>\n",
       "    </tr>\n",
       "    <tr>\n",
       "      <th>min</th>\n",
       "      <td>-0.906200</td>\n",
       "      <td>0.000000</td>\n",
       "      <td>0.000000</td>\n",
       "      <td>0.000000</td>\n",
       "    </tr>\n",
       "    <tr>\n",
       "      <th>25%</th>\n",
       "      <td>-0.125000</td>\n",
       "      <td>0.000000</td>\n",
       "      <td>0.810500</td>\n",
       "      <td>0.000000</td>\n",
       "    </tr>\n",
       "    <tr>\n",
       "      <th>50%</th>\n",
       "      <td>0.000000</td>\n",
       "      <td>0.000000</td>\n",
       "      <td>0.890000</td>\n",
       "      <td>0.000000</td>\n",
       "    </tr>\n",
       "    <tr>\n",
       "      <th>75%</th>\n",
       "      <td>0.271550</td>\n",
       "      <td>0.047500</td>\n",
       "      <td>1.000000</td>\n",
       "      <td>0.087000</td>\n",
       "    </tr>\n",
       "    <tr>\n",
       "      <th>max</th>\n",
       "      <td>0.831600</td>\n",
       "      <td>0.326000</td>\n",
       "      <td>1.000000</td>\n",
       "      <td>0.246000</td>\n",
       "    </tr>\n",
       "  </tbody>\n",
       "</table>\n",
       "</div>"
      ],
      "text/plain": [
       "        compound   negative    neutral   positive\n",
       "count  19.000000  19.000000  19.000000  19.000000\n",
       "mean    0.038342   0.043895   0.846684   0.056842\n",
       "std     0.464811   0.087203   0.233882   0.077159\n",
       "min    -0.906200   0.000000   0.000000   0.000000\n",
       "25%    -0.125000   0.000000   0.810500   0.000000\n",
       "50%     0.000000   0.000000   0.890000   0.000000\n",
       "75%     0.271550   0.047500   1.000000   0.087000\n",
       "max     0.831600   0.326000   1.000000   0.246000"
      ]
     },
     "execution_count": 30,
     "metadata": {},
     "output_type": "execute_result"
    }
   ],
   "source": [
    "bitcoin_df.describe()"
   ]
  },
  {
   "cell_type": "code",
   "execution_count": 31,
   "metadata": {},
   "outputs": [
    {
     "data": {
      "text/plain": [
       "dict"
      ]
     },
     "execution_count": 31,
     "metadata": {},
     "output_type": "execute_result"
    }
   ],
   "source": [
    "# Fetch the Ethereum news articles\n",
    "ethereum_news_articles = newsapi.get_everything(q=\"ethereum\", language=\"en\")\n",
    "type(ethereum_news_articles)"
   ]
  },
  {
   "cell_type": "code",
   "execution_count": 38,
   "metadata": {},
   "outputs": [
    {
     "name": "stdout",
     "output_type": "stream",
     "text": [
      "Total articles about ethereum: 2032\n"
     ]
    },
    {
     "data": {
      "text/plain": [
       "{'source': {'id': 'mashable', 'name': 'Mashable'},\n",
       " 'author': \"Danica D'Souza\",\n",
       " 'title': \"A beginner's guide to NFTs, the crypto potentially worth millions\",\n",
       " 'description': \"Here's everything you need to know about non-fungible tokens, the latest cryptocurrency craze.\\nRead the full story here. (And learn even more about NFTs here.)\\xa0 Read more...More about Mashable Video, Blockchain, Ethereum, Cryptocurrency, and Nft\",\n",
       " 'url': 'https://mashable.com/video/what-is-an-nft-explainer/',\n",
       " 'urlToImage': 'https://mondrian.mashable.com/2021%252F03%252F16%252Fe1%252F03d4c959891a4bc4b6f9115746360a34.94b78.png%252F1200x630.png?signature=-pFRPpZyBXt2XETGtgHXvPcePz4=',\n",
       " 'publishedAt': '2021-03-16T18:30:28Z',\n",
       " 'content': \"Here's everything you need to know about non-fungible tokens, the latest cryptocurrency craze.\\r\\nRead the full story here. (And learn even more about NFTs here.)\"}"
      ]
     },
     "execution_count": 38,
     "metadata": {},
     "output_type": "execute_result"
    }
   ],
   "source": [
    "# Print total articles\n",
    "print(f\"Total articles about ethereum: {ethereum_news_articles['totalResults']}\")\n",
    "\n",
    "# Show sample article\n",
    "ethereum_news_articles[\"articles\"][2]"
   ]
  },
  {
   "cell_type": "code",
   "execution_count": 39,
   "metadata": {},
   "outputs": [
    {
     "name": "stdout",
     "output_type": "stream",
     "text": [
      "['One of the strictest crackdowns worldwide\\r\\nPhoto by Michele Doying / The Verge\\r\\nIndia is reportedly moving forward with a sweeping ban on cryptocurrencies. According to Reuters, the countrys legislat… [+1656 chars]', 'The hacker behind last years big Twitter hack\\r\\n has just been sentenced to hard time.\\r\\nGraham Ivan Clark, the teenage hacker who broke\\r\\n into Twitters systems, took over verified accounts, and used t… [+2552 chars]', 'Some things are best left a mystery at least as far as Coinbase is concerned.\\xa0\\r\\nThe San Francisco-based cryptocurrency exchange has been preparing to go public since last year, and in a Thursday pros… [+1953 chars]', 'TL;DR: Enter the The Complete Bitcoin (BTC) Investment Giveaway for a chance to win over $12,000 in cryptocurrency-related prizes.\\r\\nThe Bitcoin Investment Giveaway includes everything you need to get… [+1641 chars]', 'A proposed law in India would make it a crime to mine, trade, or even hold cryptocurrencies like bitcoin in the country, according to a new report from Reuters citing a senior government official. It… [+1725 chars]', \"New York (CNN Business)Bitcoin's roller coaster ride continues. The top cryptocurrency surged to a new all-time high above $58,000 on Sunday but fell to just above $46,000 in early trading Tuesday mo… [+2159 chars]\", 'This morning Coinbase, an American cryptocurrency exchange, released an S-1 filing ahead of its direct listing. The company’s public debut has been hotly anticipated thanks to recent activity amongst… [+2409 chars]', 'By Reuters Staff\\r\\nFILE PHOTO: A collection of bitcoin (virtual currency) tokens are displayed in this picture illustration taken Dec. 8, 2017. REUTERS/Benoit Tessier/Illustration\\r\\n(Reuters) - MicroSt… [+905 chars]', 'By Reuters Staff\\r\\nFILE PHOTO: Representations of virtual currency Bitcoin are placed on a computer motherboard in this illustration taken January 21, 2021. REUTERS/Dado Ruvic/Illustration\\r\\n(Reuters) … [+1303 chars]', 'By Reuters Staff\\r\\nFeb 21 (Reuters) - Bitcoin continued gaining on Sunday, rising to a fresh high and extending a two-month rally that took its market capitalization above $1 trillion on Friday.\\r\\nThe … [+296 chars]', 'By Reuters Staff\\r\\nCryptocurrency mining facilities are seen in Pristina, Kosovo June 12, 2018.\\r\\nHONG KONG (Reuters Breakingviews) - Concise insights on global finance in the Covid-19 era.\\r\\nSUPPLY-SID… [+1621 chars]', 'The cryptocurrency market has encountered major headwinds to open the final trading week of February. It is not the only sector that has been impacted. North American stocks were down broadly in mid-… [+3563 chars]', 'By Reuters Staff\\r\\nFILE PHOTO: A representation of virtual currency Bitcoin and U.S. One Dollar banknotes are seen in front of a stock graph in this illustration taken January 8, 2021. REUTERS/Dado Ru… [+440 chars]', 'By Reuters Staff\\r\\nFILE PHOTO: Representations of virtual currency Bitcoin and U.S. dollar banknotes are seen in this picture illustration taken January 27, 2020. REUTERS/Dado Ruvic/Illustration\\r\\n(Reu… [+96 chars]', 'Bitcoin.\\r\\nKTS Design/Science Photo Library/Getty Images\\r\\nThe Chicago Board Options Exchange has filed a request with the US Securities and Exchange Commission seeking approval to list shares of asset… [+1567 chars]', 'The CEO of Gab the right-wing haven that lost mainstream tech backing after violent attacks in 2018 published a curious blog post denying that the company has suffered a data breach. While it mysteri… [+894 chars]', 'In the face of rising homelessness, increasing crime and inadequate public transit in San Francisco, many tech influencers are pulling up stakes to geographies that offer a seemingly more welcome cli… [+6768 chars]', 'By Reuters Staff\\r\\nFILE PHOTO: A collection of bitcoin (virtual currency) tokens are displayed in this picture illustration taken Dec. 8, 2017. REUTERS/Benoit Tessier/Illustration\\r\\n(Reuters) - Bitcoin… [+642 chars]']\n"
     ]
    }
   ],
   "source": [
    "ethereum_contents = []\n",
    "for article in bitcoin_news_articles['articles']:\n",
    "      if article['content']:\n",
    "            ethereum_contents.append(article['content'])\n",
    "    \n",
    "print(ethereum_contents)"
   ]
  },
  {
   "cell_type": "code",
   "execution_count": 40,
   "metadata": {},
   "outputs": [
    {
     "data": {
      "text/plain": [
       "(20, 5)"
      ]
     },
     "execution_count": 40,
     "metadata": {},
     "output_type": "execute_result"
    }
   ],
   "source": [
    "# Create the Ethereum sentiment scores DataFrame\n",
    "ethereum_sentiments = []\n",
    "\n",
    "for article in ethereum_news_articles[\"articles\"]:\n",
    "    try:\n",
    "        text = article[\"content\"]\n",
    "        date = article[\"publishedAt\"][:10]\n",
    "        sentiment = analyzer.polarity_scores(text)\n",
    "        compound = sentiment[\"compound\"]\n",
    "        pos = sentiment[\"pos\"]\n",
    "        neu = sentiment[\"neu\"]\n",
    "        neg = sentiment[\"neg\"]\n",
    "        \n",
    "        ethereum_sentiments.append({\n",
    "            \"text\": text,\n",
    "            \"date\": date,\n",
    "            \"compound\": compound,\n",
    "            \"positive\": pos,\n",
    "            \"negative\": neg,\n",
    "            \"neutral\": neu\n",
    "            \n",
    "        })\n",
    "        \n",
    "    except AttributeError:\n",
    "        pass\n",
    "    \n",
    "# Create DataFrame\n",
    "ethereum_df = pd.DataFrame(ethereum_sentiments)\n",
    "\n",
    "# Reorder DataFrame columns\n",
    "cols = [\"compound\", \"negative\", \"neutral\", \"positive\", \"text\"]\n",
    "ethereum_df = ethereum_df[cols]\n",
    "\n",
    "ethereum_df.shape"
   ]
  },
  {
   "cell_type": "code",
   "execution_count": 41,
   "metadata": {},
   "outputs": [
    {
     "data": {
      "text/html": [
       "<div>\n",
       "<style scoped>\n",
       "    .dataframe tbody tr th:only-of-type {\n",
       "        vertical-align: middle;\n",
       "    }\n",
       "\n",
       "    .dataframe tbody tr th {\n",
       "        vertical-align: top;\n",
       "    }\n",
       "\n",
       "    .dataframe thead th {\n",
       "        text-align: right;\n",
       "    }\n",
       "</style>\n",
       "<table border=\"1\" class=\"dataframe\">\n",
       "  <thead>\n",
       "    <tr style=\"text-align: right;\">\n",
       "      <th></th>\n",
       "      <th>compound</th>\n",
       "      <th>negative</th>\n",
       "      <th>neutral</th>\n",
       "      <th>positive</th>\n",
       "      <th>text</th>\n",
       "    </tr>\n",
       "  </thead>\n",
       "  <tbody>\n",
       "    <tr>\n",
       "      <th>0</th>\n",
       "      <td>0.0000</td>\n",
       "      <td>0.000</td>\n",
       "      <td>1.000</td>\n",
       "      <td>0.000</td>\n",
       "      <td>Famed auction house Christies just sold its fi...</td>\n",
       "    </tr>\n",
       "    <tr>\n",
       "      <th>1</th>\n",
       "      <td>-0.5574</td>\n",
       "      <td>0.110</td>\n",
       "      <td>0.890</td>\n",
       "      <td>0.000</td>\n",
       "      <td>One of the strictest crackdowns worldwide\\r\\nP...</td>\n",
       "    </tr>\n",
       "    <tr>\n",
       "      <th>2</th>\n",
       "      <td>-0.1531</td>\n",
       "      <td>0.062</td>\n",
       "      <td>0.938</td>\n",
       "      <td>0.000</td>\n",
       "      <td>Here's everything you need to know about non-f...</td>\n",
       "    </tr>\n",
       "    <tr>\n",
       "      <th>3</th>\n",
       "      <td>0.4767</td>\n",
       "      <td>0.000</td>\n",
       "      <td>0.916</td>\n",
       "      <td>0.084</td>\n",
       "      <td>OpenSea has been one of a handful of NFT marke...</td>\n",
       "    </tr>\n",
       "    <tr>\n",
       "      <th>4</th>\n",
       "      <td>-0.4588</td>\n",
       "      <td>0.145</td>\n",
       "      <td>0.789</td>\n",
       "      <td>0.066</td>\n",
       "      <td>NFTs are the latest cryptocurrency rage these ...</td>\n",
       "    </tr>\n",
       "  </tbody>\n",
       "</table>\n",
       "</div>"
      ],
      "text/plain": [
       "   compound  negative  neutral  positive  \\\n",
       "0    0.0000     0.000    1.000     0.000   \n",
       "1   -0.5574     0.110    0.890     0.000   \n",
       "2   -0.1531     0.062    0.938     0.000   \n",
       "3    0.4767     0.000    0.916     0.084   \n",
       "4   -0.4588     0.145    0.789     0.066   \n",
       "\n",
       "                                                text  \n",
       "0  Famed auction house Christies just sold its fi...  \n",
       "1  One of the strictest crackdowns worldwide\\r\\nP...  \n",
       "2  Here's everything you need to know about non-f...  \n",
       "3  OpenSea has been one of a handful of NFT marke...  \n",
       "4  NFTs are the latest cryptocurrency rage these ...  "
      ]
     },
     "execution_count": 41,
     "metadata": {},
     "output_type": "execute_result"
    }
   ],
   "source": [
    "ethereum_df.head()"
   ]
  },
  {
   "cell_type": "code",
   "execution_count": 42,
   "metadata": {},
   "outputs": [
    {
     "data": {
      "text/html": [
       "<div>\n",
       "<style scoped>\n",
       "    .dataframe tbody tr th:only-of-type {\n",
       "        vertical-align: middle;\n",
       "    }\n",
       "\n",
       "    .dataframe tbody tr th {\n",
       "        vertical-align: top;\n",
       "    }\n",
       "\n",
       "    .dataframe thead th {\n",
       "        text-align: right;\n",
       "    }\n",
       "</style>\n",
       "<table border=\"1\" class=\"dataframe\">\n",
       "  <thead>\n",
       "    <tr style=\"text-align: right;\">\n",
       "      <th></th>\n",
       "      <th>compound</th>\n",
       "      <th>negative</th>\n",
       "      <th>neutral</th>\n",
       "      <th>positive</th>\n",
       "    </tr>\n",
       "  </thead>\n",
       "  <tbody>\n",
       "    <tr>\n",
       "      <th>count</th>\n",
       "      <td>20.000000</td>\n",
       "      <td>20.000000</td>\n",
       "      <td>20.000000</td>\n",
       "      <td>20.000000</td>\n",
       "    </tr>\n",
       "    <tr>\n",
       "      <th>mean</th>\n",
       "      <td>0.164405</td>\n",
       "      <td>0.030750</td>\n",
       "      <td>0.899050</td>\n",
       "      <td>0.070250</td>\n",
       "    </tr>\n",
       "    <tr>\n",
       "      <th>std</th>\n",
       "      <td>0.407550</td>\n",
       "      <td>0.046713</td>\n",
       "      <td>0.076916</td>\n",
       "      <td>0.071886</td>\n",
       "    </tr>\n",
       "    <tr>\n",
       "      <th>min</th>\n",
       "      <td>-0.557400</td>\n",
       "      <td>0.000000</td>\n",
       "      <td>0.754000</td>\n",
       "      <td>0.000000</td>\n",
       "    </tr>\n",
       "    <tr>\n",
       "      <th>25%</th>\n",
       "      <td>-0.038275</td>\n",
       "      <td>0.000000</td>\n",
       "      <td>0.856000</td>\n",
       "      <td>0.000000</td>\n",
       "    </tr>\n",
       "    <tr>\n",
       "      <th>50%</th>\n",
       "      <td>0.160900</td>\n",
       "      <td>0.000000</td>\n",
       "      <td>0.916500</td>\n",
       "      <td>0.072000</td>\n",
       "    </tr>\n",
       "    <tr>\n",
       "      <th>75%</th>\n",
       "      <td>0.449150</td>\n",
       "      <td>0.064500</td>\n",
       "      <td>0.938250</td>\n",
       "      <td>0.090250</td>\n",
       "    </tr>\n",
       "    <tr>\n",
       "      <th>max</th>\n",
       "      <td>0.831600</td>\n",
       "      <td>0.145000</td>\n",
       "      <td>1.000000</td>\n",
       "      <td>0.246000</td>\n",
       "    </tr>\n",
       "  </tbody>\n",
       "</table>\n",
       "</div>"
      ],
      "text/plain": [
       "        compound   negative    neutral   positive\n",
       "count  20.000000  20.000000  20.000000  20.000000\n",
       "mean    0.164405   0.030750   0.899050   0.070250\n",
       "std     0.407550   0.046713   0.076916   0.071886\n",
       "min    -0.557400   0.000000   0.754000   0.000000\n",
       "25%    -0.038275   0.000000   0.856000   0.000000\n",
       "50%     0.160900   0.000000   0.916500   0.072000\n",
       "75%     0.449150   0.064500   0.938250   0.090250\n",
       "max     0.831600   0.145000   1.000000   0.246000"
      ]
     },
     "execution_count": 42,
     "metadata": {},
     "output_type": "execute_result"
    }
   ],
   "source": [
    "# Describe the Ethereum Sentiment\n",
    "ethereum_df.describe()"
   ]
  },
  {
   "cell_type": "markdown",
   "metadata": {},
   "source": [
    "### Questions:\n",
    "\n",
    "Q: Which coin had the highest mean positive score?\n",
    "\n",
    "A: \n",
    "\n",
    "Q: Which coin had the highest compound score?\n",
    "\n",
    "A: \n",
    "\n",
    "Q. Which coin had the highest positive score?\n",
    "\n",
    "A: "
   ]
  },
  {
   "cell_type": "markdown",
   "metadata": {},
   "source": [
    "---"
   ]
  },
  {
   "cell_type": "markdown",
   "metadata": {},
   "source": [
    "## 2. Natural Language Processing\n",
    "---\n",
    "###   Tokenizer\n",
    "\n",
    "In this section, you will use NLTK and Python to tokenize the text for each coin. Be sure to:\n",
    "1. Lowercase each word.\n",
    "2. Remove Punctuation.\n",
    "3. Remove Stopwords."
   ]
  },
  {
   "cell_type": "code",
   "execution_count": 34,
   "metadata": {},
   "outputs": [],
   "source": [
    "from nltk.tokenize import word_tokenize, sent_tokenize\n",
    "from nltk.corpus import stopwords\n",
    "from nltk.stem import WordNetLemmatizer, PorterStemmer\n",
    "from string import punctuation\n",
    "import re"
   ]
  },
  {
   "cell_type": "code",
   "execution_count": 11,
   "metadata": {},
   "outputs": [],
   "source": [
    "# Instantiate the lemmatizer\n",
    "# YOUR CODE HERE!\n",
    "\n",
    "# Create a list of stopwords\n",
    "# YOUR CODE HERE!\n",
    "\n",
    "# Expand the default stopwords list if necessary\n",
    "# YOUR CODE HERE!"
   ]
  },
  {
   "cell_type": "code",
   "execution_count": 12,
   "metadata": {},
   "outputs": [],
   "source": [
    "# Complete the tokenizer function\n",
    "def tokenizer(text):\n",
    "    \"\"\"Tokenizes text.\"\"\"\n",
    "    \n",
    "    # Remove the punctuation from text\n",
    "\n",
    "   \n",
    "    # Create a tokenized list of the words\n",
    "    \n",
    "    \n",
    "    # Lemmatize words into root words\n",
    "\n",
    "   \n",
    "    # Convert the words to lowercase\n",
    "    \n",
    "    \n",
    "    # Remove the stop words\n",
    "    \n",
    "    \n",
    "    return tokens"
   ]
  },
  {
   "cell_type": "code",
   "execution_count": 13,
   "metadata": {},
   "outputs": [],
   "source": [
    "# Create a new tokens column for Bitcoin\n",
    "# YOUR CODE HERE!"
   ]
  },
  {
   "cell_type": "code",
   "execution_count": 14,
   "metadata": {},
   "outputs": [],
   "source": [
    "# Create a new tokens column for Ethereum\n",
    "# YOUR CODE HERE!"
   ]
  },
  {
   "cell_type": "markdown",
   "metadata": {},
   "source": [
    "---"
   ]
  },
  {
   "cell_type": "markdown",
   "metadata": {},
   "source": [
    "### NGrams and Frequency Analysis\n",
    "\n",
    "In this section you will look at the ngrams and word frequency for each coin. \n",
    "\n",
    "1. Use NLTK to produce the n-grams for N = 2. \n",
    "2. List the top 10 words for each coin. "
   ]
  },
  {
   "cell_type": "code",
   "execution_count": 3,
   "metadata": {},
   "outputs": [],
   "source": [
    "from collections import Counter\n",
    "from nltk import ngrams"
   ]
  },
  {
   "cell_type": "code",
   "execution_count": 16,
   "metadata": {},
   "outputs": [],
   "source": [
    "# Generate the Bitcoin N-grams where N=2\n",
    "# YOUR CODE HERE!"
   ]
  },
  {
   "cell_type": "code",
   "execution_count": 17,
   "metadata": {},
   "outputs": [],
   "source": [
    "# Generate the Ethereum N-grams where N=2\n",
    "# YOUR CODE HERE!"
   ]
  },
  {
   "cell_type": "code",
   "execution_count": 18,
   "metadata": {},
   "outputs": [],
   "source": [
    "# Function token_count generates the top 10 words for a given coin\n",
    "def token_count(tokens, N=3):\n",
    "    \"\"\"Returns the top N tokens from the frequency count\"\"\"\n",
    "    return Counter(tokens).most_common(N)"
   ]
  },
  {
   "cell_type": "code",
   "execution_count": 19,
   "metadata": {},
   "outputs": [],
   "source": [
    "# Use token_count to get the top 10 words for Bitcoin\n",
    "# YOUR CODE HERE!"
   ]
  },
  {
   "cell_type": "code",
   "execution_count": 20,
   "metadata": {},
   "outputs": [],
   "source": [
    "# Use token_count to get the top 10 words for Ethereum\n",
    "# YOUR CODE HERE!"
   ]
  },
  {
   "cell_type": "markdown",
   "metadata": {},
   "source": [
    "---"
   ]
  },
  {
   "cell_type": "markdown",
   "metadata": {},
   "source": [
    "### Word Clouds\n",
    "\n",
    "In this section, you will generate word clouds for each coin to summarize the news for each coin"
   ]
  },
  {
   "cell_type": "code",
   "execution_count": 4,
   "metadata": {},
   "outputs": [],
   "source": [
    "from wordcloud import WordCloud\n",
    "import matplotlib.pyplot as plt\n",
    "plt.style.use('seaborn-whitegrid')\n",
    "import matplotlib as mpl\n",
    "mpl.rcParams['figure.figsize'] = [20.0, 10.0]"
   ]
  },
  {
   "cell_type": "code",
   "execution_count": 22,
   "metadata": {},
   "outputs": [],
   "source": [
    "# Generate the Bitcoin word cloud\n",
    "# YOUR CODE HERE!"
   ]
  },
  {
   "cell_type": "code",
   "execution_count": 23,
   "metadata": {},
   "outputs": [],
   "source": [
    "# Generate the Ethereum word cloud\n",
    "# YOUR CODE HERE!"
   ]
  },
  {
   "cell_type": "markdown",
   "metadata": {},
   "source": [
    "---\n",
    "## 3. Named Entity Recognition\n",
    "\n",
    "In this section, you will build a named entity recognition model for both Bitcoin and Ethereum, then visualize the tags using SpaCy."
   ]
  },
  {
   "cell_type": "code",
   "execution_count": 5,
   "metadata": {},
   "outputs": [],
   "source": [
    "import spacy\n",
    "from spacy import displacy"
   ]
  },
  {
   "cell_type": "code",
   "execution_count": 25,
   "metadata": {},
   "outputs": [],
   "source": [
    "# Download the language model for SpaCy\n",
    "# !python -m spacy download en_core_web_sm"
   ]
  },
  {
   "cell_type": "code",
   "execution_count": 26,
   "metadata": {},
   "outputs": [],
   "source": [
    "# Load the spaCy model\n",
    "nlp = spacy.load('en_core_web_sm')"
   ]
  },
  {
   "cell_type": "markdown",
   "metadata": {},
   "source": [
    "---\n",
    "### Bitcoin NER"
   ]
  },
  {
   "cell_type": "code",
   "execution_count": 27,
   "metadata": {},
   "outputs": [],
   "source": [
    "# Concatenate all of the Bitcoin text together\n",
    "# YOUR CODE HERE!"
   ]
  },
  {
   "cell_type": "code",
   "execution_count": 28,
   "metadata": {},
   "outputs": [],
   "source": [
    "# Run the NER processor on all of the text\n",
    "# YOUR CODE HERE!\n",
    "\n",
    "# Add a title to the document\n",
    "# YOUR CODE HERE!"
   ]
  },
  {
   "cell_type": "code",
   "execution_count": 29,
   "metadata": {},
   "outputs": [],
   "source": [
    "# Render the visualization\n",
    "# YOUR CODE HERE!"
   ]
  },
  {
   "cell_type": "code",
   "execution_count": 30,
   "metadata": {},
   "outputs": [],
   "source": [
    "# List all Entities\n",
    "# YOUR CODE HERE!"
   ]
  },
  {
   "cell_type": "markdown",
   "metadata": {},
   "source": [
    "---"
   ]
  },
  {
   "cell_type": "markdown",
   "metadata": {},
   "source": [
    "### Ethereum NER"
   ]
  },
  {
   "cell_type": "code",
   "execution_count": 31,
   "metadata": {},
   "outputs": [],
   "source": [
    "# Concatenate all of the Ethereum text together\n",
    "# YOUR CODE HERE!"
   ]
  },
  {
   "cell_type": "code",
   "execution_count": 32,
   "metadata": {},
   "outputs": [],
   "source": [
    "# Run the NER processor on all of the text\n",
    "# YOUR CODE HERE!\n",
    "\n",
    "# Add a title to the document\n",
    "# YOUR CODE HERE!"
   ]
  },
  {
   "cell_type": "code",
   "execution_count": 33,
   "metadata": {},
   "outputs": [],
   "source": [
    "# Render the visualization\n",
    "# YOUR CODE HERE!"
   ]
  },
  {
   "cell_type": "code",
   "execution_count": 34,
   "metadata": {},
   "outputs": [],
   "source": [
    "# List all Entities\n",
    "# YOUR CODE HERE!"
   ]
  },
  {
   "cell_type": "markdown",
   "metadata": {},
   "source": [
    "---"
   ]
  }
 ],
 "metadata": {
  "file_extension": ".py",
  "kernelspec": {
   "display_name": "Python 3",
   "language": "python",
   "name": "python3"
  },
  "language_info": {
   "codemirror_mode": {
    "name": "ipython",
    "version": 3
   },
   "file_extension": ".py",
   "mimetype": "text/x-python",
   "name": "python",
   "nbconvert_exporter": "python",
   "pygments_lexer": "ipython3",
   "version": "3.8.5"
  },
  "mimetype": "text/x-python",
  "name": "python",
  "npconvert_exporter": "python",
  "pygments_lexer": "ipython3",
  "version": 3
 },
 "nbformat": 4,
 "nbformat_minor": 4
}
